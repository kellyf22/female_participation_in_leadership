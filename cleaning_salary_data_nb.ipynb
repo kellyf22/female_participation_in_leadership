{
 "cells": [
  {
   "cell_type": "code",
   "execution_count": 1,
   "id": "e44449df",
   "metadata": {},
   "outputs": [],
   "source": [
    "%matplotlib inline\n",
    "import matplotlib.pyplot as plt\n",
    "import numpy as np\n",
    "import pandas as pd\n",
    "import seaborn as sns"
   ]
  },
  {
   "cell_type": "code",
   "execution_count": 3,
   "id": "02322e79",
   "metadata": {},
   "outputs": [
    {
     "data": {
      "text/html": [
       "<div>\n",
       "<style scoped>\n",
       "    .dataframe tbody tr th:only-of-type {\n",
       "        vertical-align: middle;\n",
       "    }\n",
       "\n",
       "    .dataframe tbody tr th {\n",
       "        vertical-align: top;\n",
       "    }\n",
       "\n",
       "    .dataframe thead th {\n",
       "        text-align: right;\n",
       "    }\n",
       "</style>\n",
       "<table border=\"1\" class=\"dataframe\">\n",
       "  <thead>\n",
       "    <tr style=\"text-align: right;\">\n",
       "      <th></th>\n",
       "      <th>Unnamed: 0</th>\n",
       "      <th>Year</th>\n",
       "      <th>Unnamed: 2</th>\n",
       "      <th>Percent_Salary_Gap</th>\n",
       "      <th>Unnamed: 4</th>\n",
       "      <th>Average_Management_Percent_Salary_Gap</th>\n",
       "    </tr>\n",
       "  </thead>\n",
       "  <tbody>\n",
       "    <tr>\n",
       "      <th>0</th>\n",
       "      <td>0</td>\n",
       "      <td>2010</td>\n",
       "      <td>NaN</td>\n",
       "      <td>-0.050</td>\n",
       "      <td>NaN</td>\n",
       "      <td>0.094667</td>\n",
       "    </tr>\n",
       "    <tr>\n",
       "      <th>1</th>\n",
       "      <td>1</td>\n",
       "      <td>2010</td>\n",
       "      <td>NaN</td>\n",
       "      <td>0.116</td>\n",
       "      <td>NaN</td>\n",
       "      <td>NaN</td>\n",
       "    </tr>\n",
       "    <tr>\n",
       "      <th>2</th>\n",
       "      <td>2</td>\n",
       "      <td>2010</td>\n",
       "      <td>NaN</td>\n",
       "      <td>0.218</td>\n",
       "      <td>NaN</td>\n",
       "      <td>NaN</td>\n",
       "    </tr>\n",
       "    <tr>\n",
       "      <th>3</th>\n",
       "      <td>3</td>\n",
       "      <td>2011</td>\n",
       "      <td>NaN</td>\n",
       "      <td>-0.048</td>\n",
       "      <td>NaN</td>\n",
       "      <td>0.094667</td>\n",
       "    </tr>\n",
       "    <tr>\n",
       "      <th>4</th>\n",
       "      <td>4</td>\n",
       "      <td>2011</td>\n",
       "      <td>NaN</td>\n",
       "      <td>0.114</td>\n",
       "      <td>NaN</td>\n",
       "      <td>NaN</td>\n",
       "    </tr>\n",
       "  </tbody>\n",
       "</table>\n",
       "</div>"
      ],
      "text/plain": [
       "   Unnamed: 0  Year  Unnamed: 2  Percent_Salary_Gap  Unnamed: 4  \\\n",
       "0           0  2010         NaN              -0.050         NaN   \n",
       "1           1  2010         NaN               0.116         NaN   \n",
       "2           2  2010         NaN               0.218         NaN   \n",
       "3           3  2011         NaN              -0.048         NaN   \n",
       "4           4  2011         NaN               0.114         NaN   \n",
       "\n",
       "   Average_Management_Percent_Salary_Gap  \n",
       "0                               0.094667  \n",
       "1                                    NaN  \n",
       "2                                    NaN  \n",
       "3                               0.094667  \n",
       "4                                    NaN  "
      ]
     },
     "execution_count": 3,
     "metadata": {},
     "output_type": "execute_result"
    }
   ],
   "source": [
    "lr_df = pd.read_csv('Resources/salary_lin_reg.csv')\n",
    "lr_df.head()"
   ]
  },
  {
   "cell_type": "code",
   "execution_count": 4,
   "id": "ccd15b34",
   "metadata": {},
   "outputs": [],
   "source": [
    "cleaned_df = lr_df.drop(columns= ['Unnamed: 0','Unnamed: 2','Unnamed: 4','Percent_Salary_Gap'])"
   ]
  },
  {
   "cell_type": "code",
   "execution_count": 7,
   "id": "8c9ee92e",
   "metadata": {},
   "outputs": [],
   "source": [
    "clean_salary= cleaned_df.dropna()"
   ]
  },
  {
   "cell_type": "code",
   "execution_count": 8,
   "id": "ee36e349",
   "metadata": {},
   "outputs": [],
   "source": [
    "clean_salary\n",
    "clean_salary.to_csv('Resources/clean_salary.csv')"
   ]
  },
  {
   "cell_type": "code",
   "execution_count": null,
   "id": "46e32911",
   "metadata": {},
   "outputs": [],
   "source": []
  }
 ],
 "metadata": {
  "kernelspec": {
   "display_name": "PythonAdv",
   "language": "python",
   "name": "pythonadv"
  },
  "language_info": {
   "codemirror_mode": {
    "name": "ipython",
    "version": 3
   },
   "file_extension": ".py",
   "mimetype": "text/x-python",
   "name": "python",
   "nbconvert_exporter": "python",
   "pygments_lexer": "ipython3",
   "version": "3.8.3"
  }
 },
 "nbformat": 4,
 "nbformat_minor": 5
}
