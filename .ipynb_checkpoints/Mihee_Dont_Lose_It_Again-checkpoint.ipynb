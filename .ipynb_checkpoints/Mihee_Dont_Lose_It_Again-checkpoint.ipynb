{
 "cells": [
  {
   "cell_type": "code",
   "execution_count": 104,
   "id": "9d03e2ea",
   "metadata": {},
   "outputs": [],
   "source": [
    "#This model predicts the year the salary gap will close in management positions\n",
    "#save as model.py\n",
    "\n",
    "import numpy as np\n",
    "import matplotlib.pyplot as plt\n",
    "import pandas as pd\n",
    "import pickle\n",
    "import requests\n",
    "import json\n"
   ]
  },
  {
   "cell_type": "code",
   "execution_count": 105,
   "id": "a8fce378",
   "metadata": {},
   "outputs": [],
   "source": [
    "sgap = pd.read_csv('Resources/clean_salary.csv')\n",
    "sgap_df = sgap.drop(columns= [\"Unnamed: 0\"])"
   ]
  },
  {
   "cell_type": "code",
   "execution_count": 106,
   "id": "eb59c418",
   "metadata": {
    "scrolled": true
   },
   "outputs": [
    {
     "data": {
      "text/html": [
       "<div>\n",
       "<style scoped>\n",
       "    .dataframe tbody tr th:only-of-type {\n",
       "        vertical-align: middle;\n",
       "    }\n",
       "\n",
       "    .dataframe tbody tr th {\n",
       "        vertical-align: top;\n",
       "    }\n",
       "\n",
       "    .dataframe thead th {\n",
       "        text-align: right;\n",
       "    }\n",
       "</style>\n",
       "<table border=\"1\" class=\"dataframe\">\n",
       "  <thead>\n",
       "    <tr style=\"text-align: right;\">\n",
       "      <th></th>\n",
       "      <th>Year</th>\n",
       "      <th>Percent_Salary_Gap</th>\n",
       "    </tr>\n",
       "  </thead>\n",
       "  <tbody>\n",
       "    <tr>\n",
       "      <th>0</th>\n",
       "      <td>2010</td>\n",
       "      <td>-0.050</td>\n",
       "    </tr>\n",
       "    <tr>\n",
       "      <th>1</th>\n",
       "      <td>2010</td>\n",
       "      <td>0.116</td>\n",
       "    </tr>\n",
       "    <tr>\n",
       "      <th>2</th>\n",
       "      <td>2010</td>\n",
       "      <td>0.218</td>\n",
       "    </tr>\n",
       "    <tr>\n",
       "      <th>3</th>\n",
       "      <td>2011</td>\n",
       "      <td>-0.048</td>\n",
       "    </tr>\n",
       "    <tr>\n",
       "      <th>4</th>\n",
       "      <td>2011</td>\n",
       "      <td>0.114</td>\n",
       "    </tr>\n",
       "    <tr>\n",
       "      <th>5</th>\n",
       "      <td>2011</td>\n",
       "      <td>0.218</td>\n",
       "    </tr>\n",
       "    <tr>\n",
       "      <th>6</th>\n",
       "      <td>2012</td>\n",
       "      <td>-0.046</td>\n",
       "    </tr>\n",
       "    <tr>\n",
       "      <th>7</th>\n",
       "      <td>2012</td>\n",
       "      <td>0.118</td>\n",
       "    </tr>\n",
       "    <tr>\n",
       "      <th>8</th>\n",
       "      <td>2012</td>\n",
       "      <td>0.222</td>\n",
       "    </tr>\n",
       "    <tr>\n",
       "      <th>9</th>\n",
       "      <td>2013</td>\n",
       "      <td>-0.044</td>\n",
       "    </tr>\n",
       "    <tr>\n",
       "      <th>10</th>\n",
       "      <td>2013</td>\n",
       "      <td>0.112</td>\n",
       "    </tr>\n",
       "    <tr>\n",
       "      <th>11</th>\n",
       "      <td>2013</td>\n",
       "      <td>0.216</td>\n",
       "    </tr>\n",
       "    <tr>\n",
       "      <th>12</th>\n",
       "      <td>2014</td>\n",
       "      <td>-0.050</td>\n",
       "    </tr>\n",
       "    <tr>\n",
       "      <th>13</th>\n",
       "      <td>2014</td>\n",
       "      <td>0.106</td>\n",
       "    </tr>\n",
       "    <tr>\n",
       "      <th>14</th>\n",
       "      <td>2014</td>\n",
       "      <td>0.206</td>\n",
       "    </tr>\n",
       "    <tr>\n",
       "      <th>15</th>\n",
       "      <td>2015</td>\n",
       "      <td>-0.050</td>\n",
       "    </tr>\n",
       "    <tr>\n",
       "      <th>16</th>\n",
       "      <td>2015</td>\n",
       "      <td>0.104</td>\n",
       "    </tr>\n",
       "    <tr>\n",
       "      <th>17</th>\n",
       "      <td>2015</td>\n",
       "      <td>0.202</td>\n",
       "    </tr>\n",
       "    <tr>\n",
       "      <th>18</th>\n",
       "      <td>2016</td>\n",
       "      <td>-0.052</td>\n",
       "    </tr>\n",
       "    <tr>\n",
       "      <th>19</th>\n",
       "      <td>2016</td>\n",
       "      <td>0.100</td>\n",
       "    </tr>\n",
       "    <tr>\n",
       "      <th>20</th>\n",
       "      <td>2016</td>\n",
       "      <td>0.196</td>\n",
       "    </tr>\n",
       "    <tr>\n",
       "      <th>21</th>\n",
       "      <td>2017</td>\n",
       "      <td>-0.054</td>\n",
       "    </tr>\n",
       "    <tr>\n",
       "      <th>22</th>\n",
       "      <td>2017</td>\n",
       "      <td>0.098</td>\n",
       "    </tr>\n",
       "    <tr>\n",
       "      <th>23</th>\n",
       "      <td>2017</td>\n",
       "      <td>0.194</td>\n",
       "    </tr>\n",
       "    <tr>\n",
       "      <th>24</th>\n",
       "      <td>2018</td>\n",
       "      <td>-0.056</td>\n",
       "    </tr>\n",
       "    <tr>\n",
       "      <th>25</th>\n",
       "      <td>2018</td>\n",
       "      <td>0.092</td>\n",
       "    </tr>\n",
       "    <tr>\n",
       "      <th>26</th>\n",
       "      <td>2018</td>\n",
       "      <td>0.186</td>\n",
       "    </tr>\n",
       "    <tr>\n",
       "      <th>27</th>\n",
       "      <td>2019</td>\n",
       "      <td>-0.056</td>\n",
       "    </tr>\n",
       "    <tr>\n",
       "      <th>28</th>\n",
       "      <td>2019</td>\n",
       "      <td>0.086</td>\n",
       "    </tr>\n",
       "    <tr>\n",
       "      <th>29</th>\n",
       "      <td>2019</td>\n",
       "      <td>0.172</td>\n",
       "    </tr>\n",
       "  </tbody>\n",
       "</table>\n",
       "</div>"
      ],
      "text/plain": [
       "    Year  Percent_Salary_Gap\n",
       "0   2010              -0.050\n",
       "1   2010               0.116\n",
       "2   2010               0.218\n",
       "3   2011              -0.048\n",
       "4   2011               0.114\n",
       "5   2011               0.218\n",
       "6   2012              -0.046\n",
       "7   2012               0.118\n",
       "8   2012               0.222\n",
       "9   2013              -0.044\n",
       "10  2013               0.112\n",
       "11  2013               0.216\n",
       "12  2014              -0.050\n",
       "13  2014               0.106\n",
       "14  2014               0.206\n",
       "15  2015              -0.050\n",
       "16  2015               0.104\n",
       "17  2015               0.202\n",
       "18  2016              -0.052\n",
       "19  2016               0.100\n",
       "20  2016               0.196\n",
       "21  2017              -0.054\n",
       "22  2017               0.098\n",
       "23  2017               0.194\n",
       "24  2018              -0.056\n",
       "25  2018               0.092\n",
       "26  2018               0.186\n",
       "27  2019              -0.056\n",
       "28  2019               0.086\n",
       "29  2019               0.172"
      ]
     },
     "execution_count": 106,
     "metadata": {},
     "output_type": "execute_result"
    }
   ],
   "source": [
    "# Importing the dataset\n",
    "sgap = pd.read_csv('Resources/salary_lin_reg.csv')\n",
    "sgap_clean = sgap.drop(columns=[\"Unnamed: 0\",\"Unnamed: 2\",\"Unnamed: 4\",\"Average_Management_Percent_Salary_Gap\"])\n",
    "sgap_clean"
   ]
  },
  {
   "cell_type": "code",
   "execution_count": 107,
   "id": "4593e936",
   "metadata": {},
   "outputs": [
    {
     "name": "stdout",
     "output_type": "stream",
     "text": [
      "Shape:  (10, 1) (10, 1)\n"
     ]
    },
    {
     "data": {
      "text/plain": [
       "array([[2010],\n",
       "       [2011],\n",
       "       [2012],\n",
       "       [2013],\n",
       "       [2014],\n",
       "       [2015],\n",
       "       [2016],\n",
       "       [2017],\n",
       "       [2018],\n",
       "       [2019]], dtype=int64)"
      ]
     },
     "execution_count": 107,
     "metadata": {},
     "output_type": "execute_result"
    }
   ],
   "source": [
    "# Assign the data to X and y\n",
    "# Note: Sklearn requires a two-dimensional array of values\n",
    "# so we use reshape to create this\n",
    "\n",
    "X = sgap_df.Year.values.reshape(-1, 1)\n",
    "y = sgap_df.Average_Management_Percent_Salary_Gap.values.reshape(-1, 1)\n",
    "\n",
    "print(\"Shape: \", X.shape, y.shape)\n",
    "X"
   ]
  },
  {
   "cell_type": "code",
   "execution_count": 108,
   "id": "59fea485",
   "metadata": {
    "scrolled": true
   },
   "outputs": [
    {
     "data": {
      "text/plain": [
       "<matplotlib.collections.PathCollection at 0x1b42cfb5d68>"
      ]
     },
     "execution_count": 108,
     "metadata": {},
     "output_type": "execute_result"
    },
    {
     "data": {
      "image/png": "[encoded data removed]",
      "text/plain": [
       "<Figure size 432x288 with 1 Axes>"
      ]
     },
     "metadata": {
      "needs_background": "light"
     },
     "output_type": "display_data"
    }
   ],
   "source": [
    "plt.scatter(X, y)"
   ]
  },
  {
   "cell_type": "code",
   "execution_count": 109,
   "id": "4d477f02",
   "metadata": {},
   "outputs": [],
   "source": [
    "# Create the model and fit the model to the data\n",
    "\n",
    "from sklearn.linear_model import LinearRegression\n",
    "\n",
    "### BEGIN SOLUTION\n",
    "\n",
    "model = LinearRegression()\n",
    "\n",
    "### END SOLUTION"
   ]
  },
  {
   "cell_type": "code",
   "execution_count": 110,
   "id": "75a8c493",
   "metadata": {},
   "outputs": [
    {
     "data": {
      "text/plain": [
       "LinearRegression()"
      ]
     },
     "execution_count": 110,
     "metadata": {},
     "output_type": "execute_result"
    }
   ],
   "source": [
    "# Fit the model to the data. \n",
    "# Note: This is the training step where you fit the line to the data.\n",
    "\n",
    "### BEGIN SOLUTION\n",
    "\n",
    "model.fit(X, y)\n",
    "\n",
    "### END SOLUTION"
   ]
  },
  {
   "cell_type": "code",
   "execution_count": 111,
   "id": "aedc93ac",
   "metadata": {},
   "outputs": [
    {
     "name": "stdout",
     "output_type": "stream",
     "text": [
      "Weight coefficients:  [[-0.00318788]]\n",
      "y-axis intercept:  [6.50764863]\n"
     ]
    }
   ],
   "source": [
    "# Print the coefficient and the intercept for the model\n",
    "\n",
    "### BEGIN SOLUTION\n",
    "print('Weight coefficients: ', model.coef_)\n",
    "print('y-axis intercept: ', model.intercept_)\n",
    "### END SOLUTION"
   ]
  },
  {
   "cell_type": "code",
   "execution_count": 112,
   "id": "f5ff9f0f",
   "metadata": {},
   "outputs": [
    {
     "name": "stdout",
     "output_type": "stream",
     "text": [
      "Min X Value: [[2010]]\n",
      "Max X Value: [[2019]]\n"
     ]
    }
   ],
   "source": [
    "# Note: we have to transform our min and max values \n",
    "# so they are in the format: array([[ 1.17]])\n",
    "# This is the required format for `model.predict()`\n",
    "\n",
    "x_min = np.array([[X.min()]])\n",
    "x_max = np.array([[X.max()]])\n",
    "print(f\"Min X Value: {x_min}\")\n",
    "print(f\"Max X Value: {x_max}\")"
   ]
  },
  {
   "cell_type": "code",
   "execution_count": 113,
   "id": "847dc923",
   "metadata": {},
   "outputs": [],
   "source": [
    "# Calculate the y_min and y_max using model.predict and x_min and x_max\n",
    "\n",
    "### BEGIN SOLUTION\n",
    "y_min = model.predict(x_min)\n",
    "y_max = model.predict(x_max)\n",
    "### END SOLUTION"
   ]
  },
  {
   "cell_type": "code",
   "execution_count": 114,
   "id": "6aa967b5",
   "metadata": {},
   "outputs": [
    {
     "data": {
      "text/plain": [
       "[<matplotlib.lines.Line2D at 0x1b42cfe7ef0>]"
      ]
     },
     "execution_count": 114,
     "metadata": {},
     "output_type": "execute_result"
    },
    {
     "data": {
      "image/png": "[encoded data removed]",
      "text/plain": [
       "<Figure size 432x288 with 1 Axes>"
      ]
     },
     "metadata": {
      "needs_background": "light"
     },
     "output_type": "display_data"
    }
   ],
   "source": [
    "# Plot X and y using plt.scatter\n",
    "# Plot the model fit line using [x_min[0], x_max[0]], [y_min[0], y_max[0]]\n",
    "\n",
    "### BEGIN SOLUTION\n",
    "plt.scatter(X, y, c='blue')\n",
    "plt.plot([x_min[0], x_max[0]], [y_min[0], y_max[0]], c='red')\n",
    "### END SOLUTION"
   ]
  },
  {
   "cell_type": "code",
   "execution_count": 115,
   "id": "e7dd1b6a",
   "metadata": {},
   "outputs": [
    {
     "data": {
      "text/plain": [
       "array([[0.10001212],\n",
       "       [0.09682424],\n",
       "       [0.09363636],\n",
       "       [0.09044848],\n",
       "       [0.08726061],\n",
       "       [0.08407273],\n",
       "       [0.08088485],\n",
       "       [0.07769697],\n",
       "       [0.07450909],\n",
       "       [0.07132121]])"
      ]
     },
     "execution_count": 115,
     "metadata": {},
     "output_type": "execute_result"
    }
   ],
   "source": [
    "y_pred = model.predict(X)\n",
    "y_pred"
   ]
  },
  {
   "cell_type": "code",
   "execution_count": 116,
   "id": "f87fb165",
   "metadata": {},
   "outputs": [
    {
     "data": {
      "text/html": [
       "<div>\n",
       "<style scoped>\n",
       "    .dataframe tbody tr th:only-of-type {\n",
       "        vertical-align: middle;\n",
       "    }\n",
       "\n",
       "    .dataframe tbody tr th {\n",
       "        vertical-align: top;\n",
       "    }\n",
       "\n",
       "    .dataframe thead th {\n",
       "        text-align: right;\n",
       "    }\n",
       "</style>\n",
       "<table border=\"1\" class=\"dataframe\">\n",
       "  <thead>\n",
       "    <tr style=\"text-align: right;\">\n",
       "      <th></th>\n",
       "      <th>Year</th>\n",
       "      <th>Average_Management_Percent_Salary_Gap</th>\n",
       "      <th>Predicted</th>\n",
       "    </tr>\n",
       "  </thead>\n",
       "  <tbody>\n",
       "    <tr>\n",
       "      <th>0</th>\n",
       "      <td>2010</td>\n",
       "      <td>0.094667</td>\n",
       "      <td>0.100012</td>\n",
       "    </tr>\n",
       "    <tr>\n",
       "      <th>1</th>\n",
       "      <td>2011</td>\n",
       "      <td>0.094667</td>\n",
       "      <td>0.096824</td>\n",
       "    </tr>\n",
       "    <tr>\n",
       "      <th>2</th>\n",
       "      <td>2012</td>\n",
       "      <td>0.098000</td>\n",
       "      <td>0.093636</td>\n",
       "    </tr>\n",
       "    <tr>\n",
       "      <th>3</th>\n",
       "      <td>2013</td>\n",
       "      <td>0.094667</td>\n",
       "      <td>0.090448</td>\n",
       "    </tr>\n",
       "    <tr>\n",
       "      <th>4</th>\n",
       "      <td>2014</td>\n",
       "      <td>0.087333</td>\n",
       "      <td>0.087261</td>\n",
       "    </tr>\n",
       "    <tr>\n",
       "      <th>5</th>\n",
       "      <td>2015</td>\n",
       "      <td>0.085333</td>\n",
       "      <td>0.084073</td>\n",
       "    </tr>\n",
       "    <tr>\n",
       "      <th>6</th>\n",
       "      <td>2016</td>\n",
       "      <td>0.081333</td>\n",
       "      <td>0.080885</td>\n",
       "    </tr>\n",
       "    <tr>\n",
       "      <th>7</th>\n",
       "      <td>2017</td>\n",
       "      <td>0.079333</td>\n",
       "      <td>0.077697</td>\n",
       "    </tr>\n",
       "    <tr>\n",
       "      <th>8</th>\n",
       "      <td>2018</td>\n",
       "      <td>0.074000</td>\n",
       "      <td>0.074509</td>\n",
       "    </tr>\n",
       "    <tr>\n",
       "      <th>9</th>\n",
       "      <td>2019</td>\n",
       "      <td>0.067333</td>\n",
       "      <td>0.071321</td>\n",
       "    </tr>\n",
       "  </tbody>\n",
       "</table>\n",
       "</div>"
      ],
      "text/plain": [
       "   Year  Average_Management_Percent_Salary_Gap  Predicted\n",
       "0  2010                               0.094667   0.100012\n",
       "1  2011                               0.094667   0.096824\n",
       "2  2012                               0.098000   0.093636\n",
       "3  2013                               0.094667   0.090448\n",
       "4  2014                               0.087333   0.087261\n",
       "5  2015                               0.085333   0.084073\n",
       "6  2016                               0.081333   0.080885\n",
       "7  2017                               0.079333   0.077697\n",
       "8  2018                               0.074000   0.074509\n",
       "9  2019                               0.067333   0.071321"
      ]
     },
     "execution_count": 116,
     "metadata": {},
     "output_type": "execute_result"
    }
   ],
   "source": [
    "sgap_df['Predicted'] = pd.DataFrame(np.concatenate(y_pred))\n",
    "sgap_df"
   ]
  },
  {
   "cell_type": "code",
   "execution_count": 117,
   "id": "517444a4",
   "metadata": {},
   "outputs": [
    {
     "data": {
      "text/plain": [
       "array([[0.07132121]])"
      ]
     },
     "execution_count": 117,
     "metadata": {},
     "output_type": "execute_result"
    }
   ],
   "source": [
    "pred_2019 = model.predict([[2019]])\n",
    "pred_2019"
   ]
  },
  {
   "cell_type": "code",
   "execution_count": 118,
   "id": "cb9b35df",
   "metadata": {},
   "outputs": [
    {
     "data": {
      "text/plain": [
       "array([[0.00118788]])"
      ]
     },
     "execution_count": 118,
     "metadata": {},
     "output_type": "execute_result"
    }
   ],
   "source": [
    "pred_2041 = model.predict([[2041]])\n",
    "pred_2041"
   ]
  },
  {
   "cell_type": "code",
   "execution_count": null,
   "id": "815c3908",
   "metadata": {},
   "outputs": [],
   "source": []
  },
  {
   "cell_type": "markdown",
   "id": "65721ad5",
   "metadata": {},
   "source": [
    "# Practice below!!!!!"
   ]
  },
  {
   "cell_type": "code",
   "execution_count": 65,
   "id": "9ad9aee3",
   "metadata": {},
   "outputs": [],
   "source": [
    "#  # Create the model and fit the model to the data\n",
    "\n",
    "# from sklearn.linear_model import LinearRegression\n",
    "\n",
    "# ### BEGIN SOLUTION\n",
    "\n",
    "# model = LinearRegression()\n",
    "\n",
    "# ### END SOLUTION"
   ]
  },
  {
   "cell_type": "code",
   "execution_count": 66,
   "id": "89da8b6d",
   "metadata": {},
   "outputs": [],
   "source": [
    "#  # Fit the model to the data. \n",
    "# # Note: This is the training step where you fit the line to the data.\n",
    "\n",
    "# ### BEGIN SOLUTION\n",
    "\n",
    "# model.fit(X, y)\n",
    "\n",
    "# ### END SOLUTION"
   ]
  },
  {
   "cell_type": "code",
   "execution_count": 67,
   "id": "88c3b290",
   "metadata": {},
   "outputs": [],
   "source": [
    "#  # Print the coefficient and the intercept for the model\n",
    "\n",
    "# ### BEGIN SOLUTION\n",
    "# print('Wage Gap coefficients: ', model.coef_)\n",
    "# print('y-axis intercept: ', model.intercept_)\n",
    "# ### END SOLUTION"
   ]
  },
  {
   "cell_type": "code",
   "execution_count": 68,
   "id": "e922e615",
   "metadata": {},
   "outputs": [],
   "source": [
    "# x_min = np.array([[X.min()]])\n",
    "# x_max = np.array([[X.max()]])\n",
    "# print(f\"Min X Value: {x_min}\")\n",
    "# print(f\"Max X Value: {x_max}\")"
   ]
  },
  {
   "cell_type": "code",
   "execution_count": 69,
   "id": "57b6ac3a",
   "metadata": {},
   "outputs": [],
   "source": [
    "#  # Calculate the y_min and y_max using model.predict and x_min and x_max\n",
    "\n",
    "# ### BEGIN SOLUTION\n",
    "# y_min = model.predict(x_min)\n",
    "# y_max = model.predict(x_max)\n",
    "# ### END SOLUTION"
   ]
  },
  {
   "cell_type": "code",
   "execution_count": 70,
   "id": "3ecadd30",
   "metadata": {
    "scrolled": true
   },
   "outputs": [],
   "source": [
    "# # 1. import\n",
    "# from sklearn.linear_model import LogisticRegression\n",
    "\n",
    "# # instantiate linearRegression\n",
    "# model = LinearRegression()"
   ]
  },
  {
   "cell_type": "code",
   "execution_count": 71,
   "id": "077744bb",
   "metadata": {
    "scrolled": true
   },
   "outputs": [],
   "source": [
    "# Plot X and y using plt.scatter\n",
    "# Plot the model fit line using [x_min[0], x_max[0]], [y_min[0], y_max[0]]\n",
    "\n",
    "# ### BEGIN SOLUTION\n",
    "# plt.scatter(X, y, c='blue')\n",
    "# plt.plot([x_min[0], x_max[0]], [y_min[0], y_max[0]], c='red')\n",
    "# ### END SOLUTION"
   ]
  },
  {
   "cell_type": "code",
   "execution_count": 72,
   "id": "c8c42aea",
   "metadata": {},
   "outputs": [],
   "source": [
    "# y_pred = model.predict([[2041]])"
   ]
  },
  {
   "cell_type": "code",
   "execution_count": 73,
   "id": "8b2a3faf",
   "metadata": {},
   "outputs": [],
   "source": [
    "# Assign the data to X and y\n",
    "# Note: Sklearn requires a two-dimensional array of values\n",
    "# so we use reshape to create this\n",
    "\n",
    "# X = sgap_clean.Year.values.reshape(-1, 1)\n",
    "# y = sgap_clean.Average_Management_Percent_Salary_Gap.values.reshape(-1, 1)\n",
    "\n",
    "# print(\"Shape: \", X.shape, y.shape)\n",
    "# X"
   ]
  },
  {
   "cell_type": "code",
   "execution_count": 74,
   "id": "a8f31c24",
   "metadata": {},
   "outputs": [],
   "source": [
    "# sgap_by_year = sgap_clean.pivot(columns=\"Year\",values = \"Percent_Salary_Gap\")\n",
    "# sgap_by_year = sgap_by_year.apply(lambda x: pd.Series(x.dropna().values))\n",
    "# sgap_by_year\n"
   ]
  },
  {
   "cell_type": "code",
   "execution_count": 75,
   "id": "71437bdc",
   "metadata": {},
   "outputs": [],
   "source": [
    "# sgap_by_year.columns"
   ]
  },
  {
   "cell_type": "code",
   "execution_count": 76,
   "id": "1b6b7ae4",
   "metadata": {
    "scrolled": true
   },
   "outputs": [],
   "source": [
    "# sgap_by_year.dtypes"
   ]
  },
  {
   "cell_type": "code",
   "execution_count": 77,
   "id": "9d247037",
   "metadata": {},
   "outputs": [],
   "source": [
    "# from sklearn.model_selection import train_test_split\n",
    "# from sklearn.linear_model import LinearRegression\n",
    "# from sklearn import metrics"
   ]
  },
  {
   "cell_type": "code",
   "execution_count": 78,
   "id": "3a42e3a9",
   "metadata": {},
   "outputs": [],
   "source": [
    "# X = sgap_clean.loc[:,'Year']\n",
    "# X.shape"
   ]
  },
  {
   "cell_type": "code",
   "execution_count": 79,
   "id": "fcb81870",
   "metadata": {},
   "outputs": [],
   "source": [
    "# # instantiate linearRegression\n",
    "# model = LinearRegression()"
   ]
  },
  {
   "cell_type": "code",
   "execution_count": 80,
   "id": "cbb05963",
   "metadata": {},
   "outputs": [],
   "source": [
    "# y_pred = model.predict([[2041]])"
   ]
  },
  {
   "cell_type": "code",
   "execution_count": 81,
   "id": "b59fbe0c",
   "metadata": {},
   "outputs": [],
   "source": [
    "# # predict 2019 and compare to determing percent error based of off 2019 prediction vs actual data\n",
    "# predictions = []\n",
    "# for i in range(0,2):\n",
    "#     X = [[2015],[2016],[2017],[2018]]\n",
    "#     y = sgap_by_year.iloc[i, 5:8].values\n",
    "#     model.fit(X,y)\n",
    "#     y_pred = model.predict([[2019]])\n",
    "#     predictions.append(y_pred)\n",
    "# flat_list = [item for sublist in predictions for item in sublist]"
   ]
  },
  {
   "cell_type": "code",
   "execution_count": 82,
   "id": "1c69eb65",
   "metadata": {},
   "outputs": [],
   "source": [
    "# # predict 2019 and compare to determing percent error based of off 2019 prediction vs actual data\n",
    "\n",
    "\n",
    "\n",
    "# X = [[2015],[2016],[2017],[2018]]\n",
    "# y = sgap_by_year.iloc[:, 0:10].values.reshape(-1, 1)\n",
    "# print(\"Shape: \", X, y.shape)\n",
    "# X"
   ]
  },
  {
   "cell_type": "code",
   "execution_count": 83,
   "id": "df5ac545",
   "metadata": {},
   "outputs": [],
   "source": [
    "# model.fit(X,y)\n",
    "# y_pred = model.predict([[2019]])\n",
    "# predictions.append(y_pred)\n",
    "# flat_list = [item for sublist in predictions for item in sublist]"
   ]
  },
  {
   "cell_type": "code",
   "execution_count": 84,
   "id": "7356bf5c",
   "metadata": {},
   "outputs": [],
   "source": [
    "# # Assign the data to X and y\n",
    "# # Note: Sklearn requires a two-dimensional array of values\n",
    "# # so we use reshape to create this\n",
    "\n",
    "# X = sgap_clean.Year.values.reshape(-1, 1)\n",
    "# y = sgap_clean.Average_Management_Percent_Salary_Gap.values.reshape(-1, 1)\n",
    "\n",
    "# print(\"Shape: \", X.shape, y.shape)\n",
    "# X\n"
   ]
  },
  {
   "cell_type": "code",
   "execution_count": 85,
   "id": "64175937",
   "metadata": {},
   "outputs": [],
   "source": [
    "# Assign the data to X and y\n",
    "# Note: Sklearn requires a two-dimensional array of values\n",
    "# so we use reshape to create this\n",
    "\n",
    "# X = sgap_clean.Year.values.reshape(-1, 1)\n",
    "# y = sgap_clean.Average_Management_Percent_Salary_Gap.values.reshape(-1, 1)\n",
    "\n",
    "# print(\"Shape: \", X.shape, y.shape)\n",
    "# X"
   ]
  },
  {
   "cell_type": "code",
   "execution_count": 86,
   "id": "dc1087f4",
   "metadata": {},
   "outputs": [],
   "source": [
    "# Plot the data\n",
    "\n",
    "### BEGIN SOLUTION\n",
    "\n",
    "# plt.scatter(X, y)"
   ]
  },
  {
   "cell_type": "code",
   "execution_count": 87,
   "id": "d26a6f5b",
   "metadata": {},
   "outputs": [],
   "source": [
    "# # Create the model and fit the model to the data\n",
    "\n",
    "# from sklearn.linear_model import LinearRegression\n",
    "\n",
    "# ### BEGIN SOLUTION\n",
    "\n",
    "# model = LinearRegression()"
   ]
  },
  {
   "cell_type": "code",
   "execution_count": 88,
   "id": "df728d38",
   "metadata": {},
   "outputs": [],
   "source": [
    "# # Fit the model to the data. \n",
    "# # Note: This is the training step where you fit the line to the data.\n",
    "\n",
    "# ### BEGIN SOLUTION\n",
    "\n",
    "# model.fit(X, y)\n"
   ]
  },
  {
   "cell_type": "code",
   "execution_count": 89,
   "id": "2402bfce",
   "metadata": {},
   "outputs": [],
   "source": [
    "# # Print the coefficient and the intercept for the model\n",
    "\n",
    "# ### BEGIN SOLUTION\n",
    "# print('Weight coefficients: ', model.coef_)\n",
    "# print('y-axis intercept: ', model.intercept_)\n",
    "# ### END SOLUTION"
   ]
  },
  {
   "cell_type": "code",
   "execution_count": 90,
   "id": "f89e7df3",
   "metadata": {
    "scrolled": true
   },
   "outputs": [],
   "source": [
    "# Note: we have to transform our min and max values \n",
    "# so they are in the format: array([[ 1.17]])\n",
    "# This is the required format for `model.predict()`\n",
    "\n",
    "# x_min = np.array([[X.min()]])\n",
    "# x_max = np.array([[X.max()]])\n",
    "# print(f\"Min X Value: {x_min}\")\n",
    "# print(f\"Max X Value: {x_max}\")"
   ]
  },
  {
   "cell_type": "code",
   "execution_count": 91,
   "id": "8dfb5631",
   "metadata": {},
   "outputs": [],
   "source": [
    "# Calculate the y_min and y_max using model.predict and x_min and x_max\n",
    "\n",
    "### BEGIN SOLUTION\n",
    "# y_min = model.predict(x_min)\n",
    "# y_max = model.predict(x_max)\n",
    "### END SOLUTION"
   ]
  },
  {
   "cell_type": "markdown",
   "id": "d7c46885",
   "metadata": {},
   "source": []
  },
  {
   "cell_type": "code",
   "execution_count": 92,
   "id": "dca89f13",
   "metadata": {},
   "outputs": [],
   "source": [
    "# # Plot X and y using plt.scatter\n",
    "# # Plot the model fit line using [x_min[0], x_max[0]], [y_min[0], y_max[0]]\n",
    "\n",
    "# ### BEGIN SOLUTION\n",
    "# plt.scatter(X, y, c='blue')\n",
    "# plt.plot([x_min[0], x_max[0]], [y_min[0], y_max[0]], c='red')\n",
    "# ### END SOLUTION"
   ]
  },
  {
   "cell_type": "code",
   "execution_count": 93,
   "id": "712c4d4d",
   "metadata": {},
   "outputs": [],
   "source": [
    "# y_pred = model.predict([[2041]])"
   ]
  },
  {
   "cell_type": "code",
   "execution_count": 94,
   "id": "78702843",
   "metadata": {},
   "outputs": [],
   "source": [
    "# y_pred"
   ]
  },
  {
   "cell_type": "code",
   "execution_count": 95,
   "id": "2dc24c60",
   "metadata": {},
   "outputs": [],
   "source": [
    "\n",
    "\n",
    "# y_pred = model.predict([[2019]])\n"
   ]
  },
  {
   "cell_type": "code",
   "execution_count": 96,
   "id": "a1060eed",
   "metadata": {},
   "outputs": [],
   "source": [
    "# y_pred"
   ]
  },
  {
   "cell_type": "code",
   "execution_count": 97,
   "id": "d011d9b0",
   "metadata": {},
   "outputs": [],
   "source": [
    "# create new dataframe to hold actual 2019 and predicted 2019 values\n",
    "# df_accuracy = df[['2019']].copy()\n",
    "# df_accuracy['Predicted_2019'] = flat_list\n",
    "# df_accuracy"
   ]
  },
  {
   "cell_type": "code",
   "execution_count": 98,
   "id": "2c233f6f",
   "metadata": {},
   "outputs": [],
   "source": [
    "#add to df\n",
    "\n",
    "# sgap_clean['Actual 2019']=actual\n",
    "\n",
    "# sgap_clean"
   ]
  },
  {
   "cell_type": "code",
   "execution_count": 99,
   "id": "d7a2b482",
   "metadata": {},
   "outputs": [],
   "source": [
    "# df_accuracy = sgap_clean[[sgap_clean.loc[9][1]]].copy()\n",
    "# df_accuracy['Predicted_2019'] = y_pred\n",
    "# df_accuracy\n",
    "\n"
   ]
  },
  {
   "cell_type": "code",
   "execution_count": null,
   "id": "56918f85",
   "metadata": {},
   "outputs": [],
   "source": []
  },
  {
   "cell_type": "code",
   "execution_count": null,
   "id": "d23b3a56",
   "metadata": {},
   "outputs": [],
   "source": []
  }
 ],
 "metadata": {
  "kernelspec": {
   "display_name": "PythonAdv",
   "language": "python",
   "name": "pythonadv"
  },
  "language_info": {
   "codemirror_mode": {
    "name": "ipython",
    "version": 3
   },
   "file_extension": ".py",
   "mimetype": "text/x-python",
   "name": "python",
   "nbconvert_exporter": "python",
   "pygments_lexer": "ipython3",
   "version": "3.6.12"
  }
 },
 "nbformat": 4,
 "nbformat_minor": 5
}
